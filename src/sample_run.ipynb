{
 "metadata": {
  "language_info": {
   "codemirror_mode": {
    "name": "ipython",
    "version": 3
   },
   "file_extension": ".py",
   "mimetype": "text/x-python",
   "name": "python",
   "nbconvert_exporter": "python",
   "pygments_lexer": "ipython3",
   "version": "3.7.6-final"
  },
  "orig_nbformat": 2,
  "kernelspec": {
   "name": "python3",
   "display_name": "Python 3"
  }
 },
 "nbformat": 4,
 "nbformat_minor": 2,
 "cells": [
  {
   "cell_type": "code",
   "execution_count": 1,
   "metadata": {},
   "outputs": [],
   "source": [
    "import pandas as pd\n",
    "df = pd.read_csv(\"../input/train_folds.csv\")"
   ]
  },
  {
   "cell_type": "code",
   "execution_count": 2,
   "metadata": {},
   "outputs": [
    {
     "output_type": "execute_result",
     "data": {
      "text/plain": "Index(['id', 'bin_0', 'bin_1', 'bin_2', 'bin_3', 'bin_4', 'nom_0', 'nom_1',\n       'nom_2', 'nom_3', 'nom_4', 'nom_5', 'nom_6', 'nom_7', 'nom_8', 'nom_9',\n       'ord_0', 'ord_1', 'ord_2', 'ord_3', 'ord_4', 'ord_5', 'day', 'month',\n       'target', 'kfold'],\n      dtype='object')"
     },
     "metadata": {},
     "execution_count": 2
    }
   ],
   "source": [
    "df.columns"
   ]
  },
  {
   "cell_type": "code",
   "execution_count": 3,
   "metadata": {},
   "outputs": [
    {
     "output_type": "execute_result",
     "data": {
      "text/plain": "            id  bin_0  bin_1  bin_2 bin_3 bin_4  nom_0      nom_1    nom_2  \\\n0       223793      0      0      1     F     Y    Red     Square     Lion   \n1        87842      0      1      1     T     Y  Green   Triangle  Axolotl   \n2       168260      0      0      0     T     Y   Blue  Trapezoid  Hamster   \n3        76536      0      0      0     T     Y   Blue     Square  Hamster   \n4       291707      0      0      1     T     N   Blue     Circle      Cat   \n...        ...    ...    ...    ...   ...   ...    ...        ...      ...   \n299995  191743      0      0      0     T     N  Green     Square      Dog   \n299996  190815      0      1      0     T     Y  Green  Trapezoid  Axolotl   \n299997  268154      0      1      1     F     N   Blue  Trapezoid      Dog   \n299998  107081      0      0      1     T     N   Blue     Square     Lion   \n299999  104630      0      0      0     F     Y  Green  Trapezoid      Dog   \n\n             nom_3  ... ord_0        ord_1        ord_2 ord_3 ord_4 ord_5  \\\n0            China  ...     2  Grandmaster     Lava Hot     j     R    qA   \n1           Russia  ...     1  Contributor  Boiling Hot     i     N    uJ   \n2           Russia  ...     1  Contributor     Freezing     f     P    MV   \n3           Russia  ...     1       Novice  Boiling Hot     j     G    mb   \n4           Canada  ...     3  Grandmaster         Warm     k     W    qw   \n...            ...  ...   ...          ...          ...   ...   ...   ...   \n299995      Canada  ...     2  Grandmaster  Boiling Hot     h     U    kL   \n299996  Costa Rica  ...     1  Grandmaster         Cold     f     T    dZ   \n299997      Russia  ...     2       Novice     Lava Hot     g     T    CM   \n299998       China  ...     1       Expert     Lava Hot     k     I    bJ   \n299999      Canada  ...     1  Grandmaster     Freezing     d     G    rp   \n\n        day month target kfold  \n0         2    10      1     0  \n1         2    11      0     0  \n2         7     9      0     0  \n3         2    10      1     0  \n4         1     4      1     0  \n...     ...   ...    ...   ...  \n299995    4    12      1     4  \n299996    2     1      1     4  \n299997    3    10      0     4  \n299998    5     9      1     4  \n299999    1    11      1     4  \n\n[300000 rows x 26 columns]",
      "text/html": "<div>\n<style scoped>\n    .dataframe tbody tr th:only-of-type {\n        vertical-align: middle;\n    }\n\n    .dataframe tbody tr th {\n        vertical-align: top;\n    }\n\n    .dataframe thead th {\n        text-align: right;\n    }\n</style>\n<table border=\"1\" class=\"dataframe\">\n  <thead>\n    <tr style=\"text-align: right;\">\n      <th></th>\n      <th>id</th>\n      <th>bin_0</th>\n      <th>bin_1</th>\n      <th>bin_2</th>\n      <th>bin_3</th>\n      <th>bin_4</th>\n      <th>nom_0</th>\n      <th>nom_1</th>\n      <th>nom_2</th>\n      <th>nom_3</th>\n      <th>...</th>\n      <th>ord_0</th>\n      <th>ord_1</th>\n      <th>ord_2</th>\n      <th>ord_3</th>\n      <th>ord_4</th>\n      <th>ord_5</th>\n      <th>day</th>\n      <th>month</th>\n      <th>target</th>\n      <th>kfold</th>\n    </tr>\n  </thead>\n  <tbody>\n    <tr>\n      <th>0</th>\n      <td>223793</td>\n      <td>0</td>\n      <td>0</td>\n      <td>1</td>\n      <td>F</td>\n      <td>Y</td>\n      <td>Red</td>\n      <td>Square</td>\n      <td>Lion</td>\n      <td>China</td>\n      <td>...</td>\n      <td>2</td>\n      <td>Grandmaster</td>\n      <td>Lava Hot</td>\n      <td>j</td>\n      <td>R</td>\n      <td>qA</td>\n      <td>2</td>\n      <td>10</td>\n      <td>1</td>\n      <td>0</td>\n    </tr>\n    <tr>\n      <th>1</th>\n      <td>87842</td>\n      <td>0</td>\n      <td>1</td>\n      <td>1</td>\n      <td>T</td>\n      <td>Y</td>\n      <td>Green</td>\n      <td>Triangle</td>\n      <td>Axolotl</td>\n      <td>Russia</td>\n      <td>...</td>\n      <td>1</td>\n      <td>Contributor</td>\n      <td>Boiling Hot</td>\n      <td>i</td>\n      <td>N</td>\n      <td>uJ</td>\n      <td>2</td>\n      <td>11</td>\n      <td>0</td>\n      <td>0</td>\n    </tr>\n    <tr>\n      <th>2</th>\n      <td>168260</td>\n      <td>0</td>\n      <td>0</td>\n      <td>0</td>\n      <td>T</td>\n      <td>Y</td>\n      <td>Blue</td>\n      <td>Trapezoid</td>\n      <td>Hamster</td>\n      <td>Russia</td>\n      <td>...</td>\n      <td>1</td>\n      <td>Contributor</td>\n      <td>Freezing</td>\n      <td>f</td>\n      <td>P</td>\n      <td>MV</td>\n      <td>7</td>\n      <td>9</td>\n      <td>0</td>\n      <td>0</td>\n    </tr>\n    <tr>\n      <th>3</th>\n      <td>76536</td>\n      <td>0</td>\n      <td>0</td>\n      <td>0</td>\n      <td>T</td>\n      <td>Y</td>\n      <td>Blue</td>\n      <td>Square</td>\n      <td>Hamster</td>\n      <td>Russia</td>\n      <td>...</td>\n      <td>1</td>\n      <td>Novice</td>\n      <td>Boiling Hot</td>\n      <td>j</td>\n      <td>G</td>\n      <td>mb</td>\n      <td>2</td>\n      <td>10</td>\n      <td>1</td>\n      <td>0</td>\n    </tr>\n    <tr>\n      <th>4</th>\n      <td>291707</td>\n      <td>0</td>\n      <td>0</td>\n      <td>1</td>\n      <td>T</td>\n      <td>N</td>\n      <td>Blue</td>\n      <td>Circle</td>\n      <td>Cat</td>\n      <td>Canada</td>\n      <td>...</td>\n      <td>3</td>\n      <td>Grandmaster</td>\n      <td>Warm</td>\n      <td>k</td>\n      <td>W</td>\n      <td>qw</td>\n      <td>1</td>\n      <td>4</td>\n      <td>1</td>\n      <td>0</td>\n    </tr>\n    <tr>\n      <th>...</th>\n      <td>...</td>\n      <td>...</td>\n      <td>...</td>\n      <td>...</td>\n      <td>...</td>\n      <td>...</td>\n      <td>...</td>\n      <td>...</td>\n      <td>...</td>\n      <td>...</td>\n      <td>...</td>\n      <td>...</td>\n      <td>...</td>\n      <td>...</td>\n      <td>...</td>\n      <td>...</td>\n      <td>...</td>\n      <td>...</td>\n      <td>...</td>\n      <td>...</td>\n      <td>...</td>\n    </tr>\n    <tr>\n      <th>299995</th>\n      <td>191743</td>\n      <td>0</td>\n      <td>0</td>\n      <td>0</td>\n      <td>T</td>\n      <td>N</td>\n      <td>Green</td>\n      <td>Square</td>\n      <td>Dog</td>\n      <td>Canada</td>\n      <td>...</td>\n      <td>2</td>\n      <td>Grandmaster</td>\n      <td>Boiling Hot</td>\n      <td>h</td>\n      <td>U</td>\n      <td>kL</td>\n      <td>4</td>\n      <td>12</td>\n      <td>1</td>\n      <td>4</td>\n    </tr>\n    <tr>\n      <th>299996</th>\n      <td>190815</td>\n      <td>0</td>\n      <td>1</td>\n      <td>0</td>\n      <td>T</td>\n      <td>Y</td>\n      <td>Green</td>\n      <td>Trapezoid</td>\n      <td>Axolotl</td>\n      <td>Costa Rica</td>\n      <td>...</td>\n      <td>1</td>\n      <td>Grandmaster</td>\n      <td>Cold</td>\n      <td>f</td>\n      <td>T</td>\n      <td>dZ</td>\n      <td>2</td>\n      <td>1</td>\n      <td>1</td>\n      <td>4</td>\n    </tr>\n    <tr>\n      <th>299997</th>\n      <td>268154</td>\n      <td>0</td>\n      <td>1</td>\n      <td>1</td>\n      <td>F</td>\n      <td>N</td>\n      <td>Blue</td>\n      <td>Trapezoid</td>\n      <td>Dog</td>\n      <td>Russia</td>\n      <td>...</td>\n      <td>2</td>\n      <td>Novice</td>\n      <td>Lava Hot</td>\n      <td>g</td>\n      <td>T</td>\n      <td>CM</td>\n      <td>3</td>\n      <td>10</td>\n      <td>0</td>\n      <td>4</td>\n    </tr>\n    <tr>\n      <th>299998</th>\n      <td>107081</td>\n      <td>0</td>\n      <td>0</td>\n      <td>1</td>\n      <td>T</td>\n      <td>N</td>\n      <td>Blue</td>\n      <td>Square</td>\n      <td>Lion</td>\n      <td>China</td>\n      <td>...</td>\n      <td>1</td>\n      <td>Expert</td>\n      <td>Lava Hot</td>\n      <td>k</td>\n      <td>I</td>\n      <td>bJ</td>\n      <td>5</td>\n      <td>9</td>\n      <td>1</td>\n      <td>4</td>\n    </tr>\n    <tr>\n      <th>299999</th>\n      <td>104630</td>\n      <td>0</td>\n      <td>0</td>\n      <td>0</td>\n      <td>F</td>\n      <td>Y</td>\n      <td>Green</td>\n      <td>Trapezoid</td>\n      <td>Dog</td>\n      <td>Canada</td>\n      <td>...</td>\n      <td>1</td>\n      <td>Grandmaster</td>\n      <td>Freezing</td>\n      <td>d</td>\n      <td>G</td>\n      <td>rp</td>\n      <td>1</td>\n      <td>11</td>\n      <td>1</td>\n      <td>4</td>\n    </tr>\n  </tbody>\n</table>\n<p>300000 rows × 26 columns</p>\n</div>"
     },
     "metadata": {},
     "execution_count": 3
    }
   ],
   "source": [
    "df"
   ]
  },
  {
   "cell_type": "code",
   "execution_count": 4,
   "metadata": {
    "tags": []
   },
   "outputs": [
    {
     "output_type": "stream",
     "name": "stdout",
     "text": "hello\n"
    }
   ],
   "source": [
    "print(\"hello\")"
   ]
  },
  {
   "cell_type": "code",
   "execution_count": 10,
   "metadata": {},
   "outputs": [
    {
     "output_type": "execute_result",
     "data": {
      "text/plain": "0     223793\n1      87842\n2     168260\n3      76536\n4     291707\n5     203479\n6      35108\n7     201033\n8      62673\n9     171705\n10     67218\n11    120198\n12     42008\n13     89281\n14     34121\n15    209116\n16     63524\n17    289699\n18    194736\n19    150994\n20    155899\n21     14737\n22    247193\n23     60682\n24     31159\n25      5782\n26    118601\n27    211023\n28      9982\n29    189781\n30    212019\nName: id, dtype: int64"
     },
     "metadata": {},
     "execution_count": 10
    }
   ],
   "source": []
  },
  {
   "cell_type": "code",
   "execution_count": null,
   "metadata": {},
   "outputs": [],
   "source": []
  }
 ]
}